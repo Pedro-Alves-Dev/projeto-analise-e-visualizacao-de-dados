{
 "cells": [
  {
   "cell_type": "code",
   "execution_count": 2,
   "id": "6e9524b8",
   "metadata": {},
   "outputs": [],
   "source": [
    "#Importando as bibliotecas\n",
    "import pandas as pd\n",
    "pd.plotting.register_matplotlib_converters()\n",
    "import matplotlib.pyplot as plt\n",
    "%matplotlib inline\n",
    "import seaborn as sns\n"
   ]
  },
  {
   "cell_type": "code",
   "execution_count": 3,
   "id": "07835ebb-1212-4df7-999b-1aaf22a12fc1",
   "metadata": {},
   "outputs": [],
   "source": [
    "#Preparando e carregando a base de dados\n",
    "pastaBase = \"dataset/OnlineSalesData.csv\";\n",
    "base = pd.read_csv(pastaBase, index_col=\"Transaction ID\")"
   ]
  },
  {
   "cell_type": "code",
   "execution_count": 4,
   "id": "f96d37f7",
   "metadata": {},
   "outputs": [
    {
     "data": {
      "text/html": [
       "<div>\n",
       "<style scoped>\n",
       "    .dataframe tbody tr th:only-of-type {\n",
       "        vertical-align: middle;\n",
       "    }\n",
       "\n",
       "    .dataframe tbody tr th {\n",
       "        vertical-align: top;\n",
       "    }\n",
       "\n",
       "    .dataframe thead th {\n",
       "        text-align: right;\n",
       "    }\n",
       "</style>\n",
       "<table border=\"1\" class=\"dataframe\">\n",
       "  <thead>\n",
       "    <tr style=\"text-align: right;\">\n",
       "      <th></th>\n",
       "      <th>Date</th>\n",
       "      <th>Product Category</th>\n",
       "      <th>Product Name</th>\n",
       "      <th>Units Sold</th>\n",
       "      <th>Unit Price</th>\n",
       "      <th>Total Revenue</th>\n",
       "      <th>Region</th>\n",
       "      <th>Payment Method</th>\n",
       "    </tr>\n",
       "    <tr>\n",
       "      <th>Transaction ID</th>\n",
       "      <th></th>\n",
       "      <th></th>\n",
       "      <th></th>\n",
       "      <th></th>\n",
       "      <th></th>\n",
       "      <th></th>\n",
       "      <th></th>\n",
       "      <th></th>\n",
       "    </tr>\n",
       "  </thead>\n",
       "  <tbody>\n",
       "    <tr>\n",
       "      <th>10001</th>\n",
       "      <td>2024-01-01</td>\n",
       "      <td>Electronics</td>\n",
       "      <td>iPhone 14 Pro</td>\n",
       "      <td>2</td>\n",
       "      <td>999.99</td>\n",
       "      <td>1999.98</td>\n",
       "      <td>North America</td>\n",
       "      <td>Credit Card</td>\n",
       "    </tr>\n",
       "    <tr>\n",
       "      <th>10002</th>\n",
       "      <td>2024-01-02</td>\n",
       "      <td>Home Appliances</td>\n",
       "      <td>Dyson V11 Vacuum</td>\n",
       "      <td>1</td>\n",
       "      <td>499.99</td>\n",
       "      <td>499.99</td>\n",
       "      <td>Europe</td>\n",
       "      <td>PayPal</td>\n",
       "    </tr>\n",
       "    <tr>\n",
       "      <th>10003</th>\n",
       "      <td>2024-01-03</td>\n",
       "      <td>Clothing</td>\n",
       "      <td>Levi's 501 Jeans</td>\n",
       "      <td>3</td>\n",
       "      <td>69.99</td>\n",
       "      <td>209.97</td>\n",
       "      <td>Asia</td>\n",
       "      <td>Debit Card</td>\n",
       "    </tr>\n",
       "    <tr>\n",
       "      <th>10004</th>\n",
       "      <td>2024-01-04</td>\n",
       "      <td>Books</td>\n",
       "      <td>The Da Vinci Code</td>\n",
       "      <td>4</td>\n",
       "      <td>15.99</td>\n",
       "      <td>63.96</td>\n",
       "      <td>North America</td>\n",
       "      <td>Credit Card</td>\n",
       "    </tr>\n",
       "    <tr>\n",
       "      <th>10005</th>\n",
       "      <td>2024-01-05</td>\n",
       "      <td>Beauty Products</td>\n",
       "      <td>Neutrogena Skincare Set</td>\n",
       "      <td>1</td>\n",
       "      <td>89.99</td>\n",
       "      <td>89.99</td>\n",
       "      <td>Europe</td>\n",
       "      <td>PayPal</td>\n",
       "    </tr>\n",
       "  </tbody>\n",
       "</table>\n",
       "</div>"
      ],
      "text/plain": [
       "                      Date Product Category             Product Name  \\\n",
       "Transaction ID                                                         \n",
       "10001           2024-01-01      Electronics            iPhone 14 Pro   \n",
       "10002           2024-01-02  Home Appliances         Dyson V11 Vacuum   \n",
       "10003           2024-01-03         Clothing         Levi's 501 Jeans   \n",
       "10004           2024-01-04            Books        The Da Vinci Code   \n",
       "10005           2024-01-05  Beauty Products  Neutrogena Skincare Set   \n",
       "\n",
       "                Units Sold  Unit Price  Total Revenue         Region  \\\n",
       "Transaction ID                                                         \n",
       "10001                    2      999.99        1999.98  North America   \n",
       "10002                    1      499.99         499.99         Europe   \n",
       "10003                    3       69.99         209.97           Asia   \n",
       "10004                    4       15.99          63.96  North America   \n",
       "10005                    1       89.99          89.99         Europe   \n",
       "\n",
       "               Payment Method  \n",
       "Transaction ID                 \n",
       "10001             Credit Card  \n",
       "10002                  PayPal  \n",
       "10003              Debit Card  \n",
       "10004             Credit Card  \n",
       "10005                  PayPal  "
      ]
     },
     "execution_count": 4,
     "metadata": {},
     "output_type": "execute_result"
    }
   ],
   "source": [
    "#Exibindo informações da base de dados\n",
    "base.head()"
   ]
  },
  {
   "cell_type": "code",
   "execution_count": 5,
   "id": "bc867646-a529-40ee-ae6f-3279a5fc5243",
   "metadata": {},
   "outputs": [
    {
     "data": {
      "image/png": "[encoded data removed]",
      "text/plain": [
       "<Figure size 1400x400 with 1 Axes>"
      ]
     },
     "metadata": {},
     "output_type": "display_data"
    }
   ],
   "source": [
    "#Relação entre método de pagamento e unidades vendidas\n",
    "plt.figure(figsize=(14, 4))\n",
    "plt.title(\"Lucro por método de pagamento\")\n",
    "\n",
    "#Adicionando linhas\n",
    "#sns.lineplot(data=base[\"Payment Method\"], label=\"Método de Pagamento\")\n",
    "#sns.lineplot(data=base[\"Units Sold\"], label=\"Unidades Vendidas\")\n",
    "plt.bar(base[\"Payment Method\"], base[\"Total Revenue\"])\n",
    "\n",
    "#Eixos\n",
    "plt.xlabel(\"Payment Method\")\n",
    "plt.ylabel(\"Total Revenue\")\n",
    "plt.show()"
   ]
  },
  {
   "cell_type": "code",
   "execution_count": 6,
   "id": "7b03f95f-fa39-4c1e-8531-2e46fd4a4e88",
   "metadata": {},
   "outputs": [
    {
     "data": {
      "image/png": "[encoded data removed]",
      "text/plain": [
       "<Figure size 1400x400 with 1 Axes>"
      ]
     },
     "metadata": {},
     "output_type": "display_data"
    }
   ],
   "source": [
    "#Relação entre método de pagamento e unidades vendidas\n",
    "plt.figure(figsize=(14, 4))\n",
    "plt.title(\"Quantidade de produtos vendidos por método de pagamento\")\n",
    "\n",
    "#Adicionando linhas\n",
    "#sns.lineplot(data=base[\"Payment Method\"], label=\"Método de Pagamento\")\n",
    "#sns.lineplot(data=base[\"Units Sold\"], label=\"Unidades Vendidas\")\n",
    "plt.bar(base[\"Payment Method\"], base[\"Units Sold\"])\n",
    "\n",
    "#Eixos\n",
    "plt.xlabel(\"Payment Method\")\n",
    "plt.ylabel(\"Units Sold\")\n",
    "plt.show()"
   ]
  },
  {
   "cell_type": "code",
   "execution_count": 7,
   "id": "e196bfc1-6779-4621-84e6-0afdfa6b77ae",
   "metadata": {},
   "outputs": [
    {
     "data": {
      "text/html": [
       "<div>\n",
       "<style scoped>\n",
       "    .dataframe tbody tr th:only-of-type {\n",
       "        vertical-align: middle;\n",
       "    }\n",
       "\n",
       "    .dataframe tbody tr th {\n",
       "        vertical-align: top;\n",
       "    }\n",
       "\n",
       "    .dataframe thead th {\n",
       "        text-align: right;\n",
       "    }\n",
       "</style>\n",
       "<table border=\"1\" class=\"dataframe\">\n",
       "  <thead>\n",
       "    <tr style=\"text-align: right;\">\n",
       "      <th></th>\n",
       "      <th>Units Sold</th>\n",
       "      <th>Unit Price</th>\n",
       "      <th>Total Revenue</th>\n",
       "    </tr>\n",
       "  </thead>\n",
       "  <tbody>\n",
       "    <tr>\n",
       "      <th>count</th>\n",
       "      <td>240.000000</td>\n",
       "      <td>240.000000</td>\n",
       "      <td>240.000000</td>\n",
       "    </tr>\n",
       "    <tr>\n",
       "      <th>mean</th>\n",
       "      <td>2.158333</td>\n",
       "      <td>236.395583</td>\n",
       "      <td>335.699375</td>\n",
       "    </tr>\n",
       "    <tr>\n",
       "      <th>std</th>\n",
       "      <td>1.322454</td>\n",
       "      <td>429.446695</td>\n",
       "      <td>485.804469</td>\n",
       "    </tr>\n",
       "    <tr>\n",
       "      <th>min</th>\n",
       "      <td>1.000000</td>\n",
       "      <td>6.500000</td>\n",
       "      <td>6.500000</td>\n",
       "    </tr>\n",
       "    <tr>\n",
       "      <th>25%</th>\n",
       "      <td>1.000000</td>\n",
       "      <td>29.500000</td>\n",
       "      <td>62.965000</td>\n",
       "    </tr>\n",
       "    <tr>\n",
       "      <th>50%</th>\n",
       "      <td>2.000000</td>\n",
       "      <td>89.990000</td>\n",
       "      <td>179.970000</td>\n",
       "    </tr>\n",
       "    <tr>\n",
       "      <th>75%</th>\n",
       "      <td>3.000000</td>\n",
       "      <td>249.990000</td>\n",
       "      <td>399.225000</td>\n",
       "    </tr>\n",
       "    <tr>\n",
       "      <th>max</th>\n",
       "      <td>10.000000</td>\n",
       "      <td>3899.990000</td>\n",
       "      <td>3899.990000</td>\n",
       "    </tr>\n",
       "  </tbody>\n",
       "</table>\n",
       "</div>"
      ],
      "text/plain": [
       "       Units Sold   Unit Price  Total Revenue\n",
       "count  240.000000   240.000000     240.000000\n",
       "mean     2.158333   236.395583     335.699375\n",
       "std      1.322454   429.446695     485.804469\n",
       "min      1.000000     6.500000       6.500000\n",
       "25%      1.000000    29.500000      62.965000\n",
       "50%      2.000000    89.990000     179.970000\n",
       "75%      3.000000   249.990000     399.225000\n",
       "max     10.000000  3899.990000    3899.990000"
      ]
     },
     "execution_count": 7,
     "metadata": {},
     "output_type": "execute_result"
    }
   ],
   "source": [
    "base.describe()"
   ]
  },
  {
   "cell_type": "code",
   "execution_count": 8,
   "id": "a041d07f-aa00-4677-b29b-ad04e1d29ef0",
   "metadata": {},
   "outputs": [
    {
     "data": {
      "text/plain": [
       "(240, 8)"
      ]
     },
     "execution_count": 8,
     "metadata": {},
     "output_type": "execute_result"
    }
   ],
   "source": [
    "base.duplicated()\n",
    "base.shape"
   ]
  },
  {
   "cell_type": "code",
   "execution_count": 9,
   "id": "cbbd96f3-2a5c-476a-a3b7-7d2fde425bc4",
   "metadata": {},
   "outputs": [],
   "source": [
    "base = base.drop_duplicates(keep=\"last\")"
   ]
  },
  {
   "cell_type": "code",
   "execution_count": 10,
   "id": "ec77d477-4de5-4996-99cd-3a37fdf3c5d1",
   "metadata": {},
   "outputs": [
    {
     "data": {
      "text/plain": [
       "(240, 8)"
      ]
     },
     "execution_count": 10,
     "metadata": {},
     "output_type": "execute_result"
    }
   ],
   "source": [
    "base.shape"
   ]
  },
  {
   "cell_type": "code",
   "execution_count": 11,
   "id": "7f845091-73ab-4822-884d-9d36717d4ebf",
   "metadata": {},
   "outputs": [
    {
     "data": {
      "text/plain": [
       "['Clothing',\n",
       " 'Home Appliances',\n",
       " 'Books',\n",
       " 'Sports',\n",
       " 'Beauty Products',\n",
       " 'Electronics']"
      ]
     },
     "execution_count": 11,
     "metadata": {},
     "output_type": "execute_result"
    }
   ],
   "source": [
    "list(set(base[\"Product Category\"]))"
   ]
  }
 ],
 "metadata": {
  "kernelspec": {
   "display_name": "Python 3 (ipykernel)",
   "language": "python",
   "name": "python3"
  },
  "language_info": {
   "codemirror_mode": {
    "name": "ipython",
    "version": 3
   },
   "file_extension": ".py",
   "mimetype": "text/x-python",
   "name": "python",
   "nbconvert_exporter": "python",
   "pygments_lexer": "ipython3",
   "version": "3.8.10"
  }
 },
 "nbformat": 4,
 "nbformat_minor": 5
}
