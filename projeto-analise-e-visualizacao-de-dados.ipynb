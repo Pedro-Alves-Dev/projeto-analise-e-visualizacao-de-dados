{
 "cells": [
  {
   "cell_type": "markdown",
   "id": "d4012606-5872-4991-a572-39343fff072a",
   "metadata": {},
   "source": [
    "**Análise e Visualização de Dados**"
   ]
  },
  {
   "cell_type": "code",
   "execution_count": 1,
   "id": "f7beb9d8-a83c-492b-97be-c520c40ede8e",
   "metadata": {},
   "outputs": [],
   "source": [
    "#Importando as bibliotecas\n",
    "import pandas as pd\n",
    "import matplotlib.pyplot as plt\n",
    "import numpy as np"
   ]
  },
  {
   "cell_type": "code",
   "execution_count": 2,
   "id": "1bc4526d-8bde-4e09-8362-586fecfeb355",
   "metadata": {},
   "outputs": [],
   "source": [
    "#Carregando e lendo a base de dados\n",
    "pastaBase = \"dataset/OnlineSalesData.csv\"\n",
    "base = pd.read_csv(pastaBase, index_col=\"Transaction ID\")"
   ]
  },
  {
   "cell_type": "code",
   "execution_count": 3,
   "id": "fd9fccec-2ee2-4b11-b212-104ef185e1cc",
   "metadata": {},
   "outputs": [
    {
     "data": {
      "text/html": [
       "<div>\n",
       "<style scoped>\n",
       "    .dataframe tbody tr th:only-of-type {\n",
       "        vertical-align: middle;\n",
       "    }\n",
       "\n",
       "    .dataframe tbody tr th {\n",
       "        vertical-align: top;\n",
       "    }\n",
       "\n",
       "    .dataframe thead th {\n",
       "        text-align: right;\n",
       "    }\n",
       "</style>\n",
       "<table border=\"1\" class=\"dataframe\">\n",
       "  <thead>\n",
       "    <tr style=\"text-align: right;\">\n",
       "      <th></th>\n",
       "      <th>Date</th>\n",
       "      <th>Product Category</th>\n",
       "      <th>Product Name</th>\n",
       "      <th>Units Sold</th>\n",
       "      <th>Unit Price</th>\n",
       "      <th>Total Revenue</th>\n",
       "      <th>Region</th>\n",
       "      <th>Payment Method</th>\n",
       "    </tr>\n",
       "    <tr>\n",
       "      <th>Transaction ID</th>\n",
       "      <th></th>\n",
       "      <th></th>\n",
       "      <th></th>\n",
       "      <th></th>\n",
       "      <th></th>\n",
       "      <th></th>\n",
       "      <th></th>\n",
       "      <th></th>\n",
       "    </tr>\n",
       "  </thead>\n",
       "  <tbody>\n",
       "    <tr>\n",
       "      <th>10001</th>\n",
       "      <td>2024-01-01</td>\n",
       "      <td>Electronics</td>\n",
       "      <td>iPhone 14 Pro</td>\n",
       "      <td>2</td>\n",
       "      <td>999.99</td>\n",
       "      <td>1999.98</td>\n",
       "      <td>North America</td>\n",
       "      <td>Credit Card</td>\n",
       "    </tr>\n",
       "    <tr>\n",
       "      <th>10002</th>\n",
       "      <td>2024-01-02</td>\n",
       "      <td>Home Appliances</td>\n",
       "      <td>Dyson V11 Vacuum</td>\n",
       "      <td>1</td>\n",
       "      <td>499.99</td>\n",
       "      <td>499.99</td>\n",
       "      <td>Europe</td>\n",
       "      <td>PayPal</td>\n",
       "    </tr>\n",
       "    <tr>\n",
       "      <th>10003</th>\n",
       "      <td>2024-01-03</td>\n",
       "      <td>Clothing</td>\n",
       "      <td>Levi's 501 Jeans</td>\n",
       "      <td>3</td>\n",
       "      <td>69.99</td>\n",
       "      <td>209.97</td>\n",
       "      <td>Asia</td>\n",
       "      <td>Debit Card</td>\n",
       "    </tr>\n",
       "    <tr>\n",
       "      <th>10004</th>\n",
       "      <td>2024-01-04</td>\n",
       "      <td>Books</td>\n",
       "      <td>The Da Vinci Code</td>\n",
       "      <td>4</td>\n",
       "      <td>15.99</td>\n",
       "      <td>63.96</td>\n",
       "      <td>North America</td>\n",
       "      <td>Credit Card</td>\n",
       "    </tr>\n",
       "    <tr>\n",
       "      <th>10005</th>\n",
       "      <td>2024-01-05</td>\n",
       "      <td>Beauty Products</td>\n",
       "      <td>Neutrogena Skincare Set</td>\n",
       "      <td>1</td>\n",
       "      <td>89.99</td>\n",
       "      <td>89.99</td>\n",
       "      <td>Europe</td>\n",
       "      <td>PayPal</td>\n",
       "    </tr>\n",
       "  </tbody>\n",
       "</table>\n",
       "</div>"
      ],
      "text/plain": [
       "                      Date Product Category             Product Name  \\\n",
       "Transaction ID                                                         \n",
       "10001           2024-01-01      Electronics            iPhone 14 Pro   \n",
       "10002           2024-01-02  Home Appliances         Dyson V11 Vacuum   \n",
       "10003           2024-01-03         Clothing         Levi's 501 Jeans   \n",
       "10004           2024-01-04            Books        The Da Vinci Code   \n",
       "10005           2024-01-05  Beauty Products  Neutrogena Skincare Set   \n",
       "\n",
       "                Units Sold  Unit Price  Total Revenue         Region  \\\n",
       "Transaction ID                                                         \n",
       "10001                    2      999.99        1999.98  North America   \n",
       "10002                    1      499.99         499.99         Europe   \n",
       "10003                    3       69.99         209.97           Asia   \n",
       "10004                    4       15.99          63.96  North America   \n",
       "10005                    1       89.99          89.99         Europe   \n",
       "\n",
       "               Payment Method  \n",
       "Transaction ID                 \n",
       "10001             Credit Card  \n",
       "10002                  PayPal  \n",
       "10003              Debit Card  \n",
       "10004             Credit Card  \n",
       "10005                  PayPal  "
      ]
     },
     "execution_count": 3,
     "metadata": {},
     "output_type": "execute_result"
    }
   ],
   "source": [
    "#Exibindo a base de dados\n",
    "base.head()"
   ]
  },
  {
   "cell_type": "markdown",
   "id": "9cb611c8-1190-44bb-804a-e70e5e48738b",
   "metadata": {},
   "source": [
    "**Exploração estatística da base**"
   ]
  },
  {
   "cell_type": "code",
   "execution_count": 4,
   "id": "b25b3f5f-6e62-4472-af9b-91611909a542",
   "metadata": {},
   "outputs": [
    {
     "name": "stdout",
     "output_type": "stream",
     "text": [
      "<class 'pandas.core.frame.DataFrame'>\n",
      "Index: 240 entries, 10001 to 10240\n",
      "Data columns (total 8 columns):\n",
      " #   Column            Non-Null Count  Dtype  \n",
      "---  ------            --------------  -----  \n",
      " 0   Date              240 non-null    object \n",
      " 1   Product Category  240 non-null    object \n",
      " 2   Product Name      240 non-null    object \n",
      " 3   Units Sold        240 non-null    int64  \n",
      " 4   Unit Price        240 non-null    float64\n",
      " 5   Total Revenue     240 non-null    float64\n",
      " 6   Region            240 non-null    object \n",
      " 7   Payment Method    240 non-null    object \n",
      "dtypes: float64(2), int64(1), object(5)\n",
      "memory usage: 16.9+ KB\n"
     ]
    }
   ],
   "source": [
    "#Exibindo as informações básicas\n",
    "base.info()"
   ]
  },
  {
   "cell_type": "code",
   "execution_count": 5,
   "id": "0390092d-a312-4f18-aed1-a5ff0f21cf3d",
   "metadata": {},
   "outputs": [
    {
     "data": {
      "text/plain": [
       "(240, 8)"
      ]
     },
     "execution_count": 5,
     "metadata": {},
     "output_type": "execute_result"
    }
   ],
   "source": [
    "#Linhas e colunas\n",
    "base.shape"
   ]
  },
  {
   "cell_type": "code",
   "execution_count": 6,
   "id": "a2ea6258-a113-4d67-b004-5640066df66f",
   "metadata": {},
   "outputs": [
    {
     "data": {
      "text/html": [
       "<div>\n",
       "<style scoped>\n",
       "    .dataframe tbody tr th:only-of-type {\n",
       "        vertical-align: middle;\n",
       "    }\n",
       "\n",
       "    .dataframe tbody tr th {\n",
       "        vertical-align: top;\n",
       "    }\n",
       "\n",
       "    .dataframe thead th {\n",
       "        text-align: right;\n",
       "    }\n",
       "</style>\n",
       "<table border=\"1\" class=\"dataframe\">\n",
       "  <thead>\n",
       "    <tr style=\"text-align: right;\">\n",
       "      <th></th>\n",
       "      <th>Units Sold</th>\n",
       "      <th>Unit Price</th>\n",
       "      <th>Total Revenue</th>\n",
       "    </tr>\n",
       "  </thead>\n",
       "  <tbody>\n",
       "    <tr>\n",
       "      <th>count</th>\n",
       "      <td>240.000000</td>\n",
       "      <td>240.000000</td>\n",
       "      <td>240.000000</td>\n",
       "    </tr>\n",
       "    <tr>\n",
       "      <th>mean</th>\n",
       "      <td>2.158333</td>\n",
       "      <td>236.395583</td>\n",
       "      <td>335.699375</td>\n",
       "    </tr>\n",
       "    <tr>\n",
       "      <th>std</th>\n",
       "      <td>1.322454</td>\n",
       "      <td>429.446695</td>\n",
       "      <td>485.804469</td>\n",
       "    </tr>\n",
       "    <tr>\n",
       "      <th>min</th>\n",
       "      <td>1.000000</td>\n",
       "      <td>6.500000</td>\n",
       "      <td>6.500000</td>\n",
       "    </tr>\n",
       "    <tr>\n",
       "      <th>25%</th>\n",
       "      <td>1.000000</td>\n",
       "      <td>29.500000</td>\n",
       "      <td>62.965000</td>\n",
       "    </tr>\n",
       "    <tr>\n",
       "      <th>50%</th>\n",
       "      <td>2.000000</td>\n",
       "      <td>89.990000</td>\n",
       "      <td>179.970000</td>\n",
       "    </tr>\n",
       "    <tr>\n",
       "      <th>75%</th>\n",
       "      <td>3.000000</td>\n",
       "      <td>249.990000</td>\n",
       "      <td>399.225000</td>\n",
       "    </tr>\n",
       "    <tr>\n",
       "      <th>max</th>\n",
       "      <td>10.000000</td>\n",
       "      <td>3899.990000</td>\n",
       "      <td>3899.990000</td>\n",
       "    </tr>\n",
       "  </tbody>\n",
       "</table>\n",
       "</div>"
      ],
      "text/plain": [
       "       Units Sold   Unit Price  Total Revenue\n",
       "count  240.000000   240.000000     240.000000\n",
       "mean     2.158333   236.395583     335.699375\n",
       "std      1.322454   429.446695     485.804469\n",
       "min      1.000000     6.500000       6.500000\n",
       "25%      1.000000    29.500000      62.965000\n",
       "50%      2.000000    89.990000     179.970000\n",
       "75%      3.000000   249.990000     399.225000\n",
       "max     10.000000  3899.990000    3899.990000"
      ]
     },
     "execution_count": 6,
     "metadata": {},
     "output_type": "execute_result"
    }
   ],
   "source": [
    "#Informações estatísticas\n",
    "base.describe()"
   ]
  },
  {
   "cell_type": "markdown",
   "id": "0fdf6899-9901-4e98-85cb-da31c08472f7",
   "metadata": {},
   "source": [
    "*1° percepção: desvio padrão alto e mediana baixa.*"
   ]
  },
  {
   "cell_type": "markdown",
   "id": "6d0b52d3-8f00-4017-9f25-e47eb9fc874a",
   "metadata": {},
   "source": [
    "**Eliminando informações desnecessárias**"
   ]
  },
  {
   "cell_type": "code",
   "execution_count": 7,
   "id": "c7248fe7-c3dd-4b74-8861-12c08c3ad82c",
   "metadata": {},
   "outputs": [
    {
     "data": {
      "text/plain": [
       "Date                0\n",
       "Product Category    0\n",
       "Product Name        0\n",
       "Units Sold          0\n",
       "Unit Price          0\n",
       "Total Revenue       0\n",
       "Region              0\n",
       "Payment Method      0\n",
       "dtype: int64"
      ]
     },
     "execution_count": 7,
     "metadata": {},
     "output_type": "execute_result"
    }
   ],
   "source": [
    "#Verificando se há ou não valores nulos\n",
    "base.isnull().sum()"
   ]
  },
  {
   "cell_type": "code",
   "execution_count": 8,
   "id": "9b1d6b77-9872-4f56-9d49-9ff96eb30396",
   "metadata": {},
   "outputs": [
    {
     "data": {
      "text/html": [
       "<div>\n",
       "<style scoped>\n",
       "    .dataframe tbody tr th:only-of-type {\n",
       "        vertical-align: middle;\n",
       "    }\n",
       "\n",
       "    .dataframe tbody tr th {\n",
       "        vertical-align: top;\n",
       "    }\n",
       "\n",
       "    .dataframe thead th {\n",
       "        text-align: right;\n",
       "    }\n",
       "</style>\n",
       "<table border=\"1\" class=\"dataframe\">\n",
       "  <thead>\n",
       "    <tr style=\"text-align: right;\">\n",
       "      <th></th>\n",
       "      <th>Date</th>\n",
       "      <th>Product Category</th>\n",
       "      <th>Product Name</th>\n",
       "      <th>Units Sold</th>\n",
       "      <th>Unit Price</th>\n",
       "      <th>Total Revenue</th>\n",
       "      <th>Region</th>\n",
       "      <th>Payment Method</th>\n",
       "    </tr>\n",
       "    <tr>\n",
       "      <th>Transaction ID</th>\n",
       "      <th></th>\n",
       "      <th></th>\n",
       "      <th></th>\n",
       "      <th></th>\n",
       "      <th></th>\n",
       "      <th></th>\n",
       "      <th></th>\n",
       "      <th></th>\n",
       "    </tr>\n",
       "  </thead>\n",
       "  <tbody>\n",
       "  </tbody>\n",
       "</table>\n",
       "</div>"
      ],
      "text/plain": [
       "Empty DataFrame\n",
       "Columns: [Date, Product Category, Product Name, Units Sold, Unit Price, Total Revenue, Region, Payment Method]\n",
       "Index: []"
      ]
     },
     "execution_count": 8,
     "metadata": {},
     "output_type": "execute_result"
    }
   ],
   "source": [
    "#Verificando se há ou não valores duplicados\n",
    "base[base.duplicated()]"
   ]
  },
  {
   "cell_type": "markdown",
   "id": "38c6ba9b-5cd3-4475-9c84-39f0668491f4",
   "metadata": {},
   "source": [
    "2° percepção: não há valores nulos e nem valores duplicados."
   ]
  },
  {
   "cell_type": "markdown",
   "id": "d196491f-fd0b-4a7a-8b3f-a6c6016e06a5",
   "metadata": {},
   "source": [
    "**Relação entre a *Categoria do Produto* e o *Lucro Total* com gráfico de colunas**"
   ]
  },
  {
   "cell_type": "code",
   "execution_count": 9,
   "id": "222f5fde-e1d7-463d-8efb-54452b2836ef",
   "metadata": {},
   "outputs": [
    {
     "data": {
      "image/png": "[encoded data removed]",
      "text/plain": [
       "<Figure size 800x400 with 1 Axes>"
      ]
     },
     "metadata": {},
     "output_type": "display_data"
    }
   ],
   "source": [
    "#Plottando o gráfico da relação\n",
    "\n",
    "#Criando a figura e o eixo\n",
    "figura, ax = plt.subplots(figsize=(8, 4))\n",
    "\n",
    "#Criando um vetor para cada elemento da coluna \"Product Category\"\n",
    "#x = np.array(range(1, base.shape[0] + 1))\n",
    "\n",
    "#Criando e editando as barras\n",
    "larguraBarras = 0.50\n",
    "barras = ax.bar(base[\"Product Category\"], base[\"Total Revenue\"], larguraBarras)"
   ]
  },
  {
   "cell_type": "markdown",
   "id": "81c4d2ce-894c-443f-bb7d-0b0bb9060ac4",
   "metadata": {},
   "source": [
    "*3° percepção: vê-se que os pordutos eletônicos, de aplicações de casa e os de esportes se sobressaem quando se tratando de lucro.*"
   ]
  },
  {
   "cell_type": "code",
   "execution_count": null,
   "id": "fc62d1e8-d1ad-4bb2-ab83-6712dd2fc612",
   "metadata": {},
   "outputs": [],
   "source": []
  }
 ],
 "metadata": {
  "kernelspec": {
   "display_name": "Python 3 (ipykernel)",
   "language": "python",
   "name": "python3"
  },
  "language_info": {
   "codemirror_mode": {
    "name": "ipython",
    "version": 3
   },
   "file_extension": ".py",
   "mimetype": "text/x-python",
   "name": "python",
   "nbconvert_exporter": "python",
   "pygments_lexer": "ipython3",
   "version": "3.8.10"
  }
 },
 "nbformat": 4,
 "nbformat_minor": 5
}
